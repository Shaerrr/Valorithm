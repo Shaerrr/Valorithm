{
 "cells": [
  {
   "cell_type": "code",
   "execution_count": 67,
   "id": "bbf8de78",
   "metadata": {},
   "outputs": [],
   "source": [
    "# 환경변수\n",
    "from dotenv import load_dotenv\n",
    "load_dotenv()\n",
    "import os \n",
    "import sys\n",
    "# 라이브러리\n",
    "import requests\n",
    "from langchain_google_genai import ChatGoogleGenerativeAI\n",
    "from langchain_core.messages import HumanMessage\n",
    "from langchain_core.prompts import ChatPromptTemplate\n",
    "from langchain_text_splitters import RecursiveCharacterTextSplitter\n",
    "from langchain_community.document_loaders import PyMuPDFLoader\n",
    "from langchain_community.vectorstores import FAISS\n",
    "from langchain_core.output_parsers import StrOutputParser\n",
    "from langchain_core.runnables import RunnablePassthrough\n",
    "from langchain_core.prompts import PromptTemplate\n",
    "from langchain_openai import ChatOpenAI, OpenAIEmbeddings"
   ]
  },
  {
   "cell_type": "code",
   "execution_count": 68,
   "id": "92ad9a23",
   "metadata": {},
   "outputs": [],
   "source": [
    "from langchain_text_splitters import RecursiveCharacterTextSplitter\n",
    "from langchain_community.document_loaders import PyMuPDFLoader\n",
    "from langchain_community.vectorstores import FAISS\n",
    "from langchain_core.output_parsers import StrOutputParser\n",
    "from langchain_core.runnables import RunnablePassthrough\n",
    "from langchain_core.prompts import PromptTemplate\n",
    "from langchain_openai import ChatOpenAI, OpenAIEmbeddings"
   ]
  },
  {
   "cell_type": "code",
   "execution_count": 69,
   "id": "a8b46209",
   "metadata": {},
   "outputs": [],
   "source": [
    "loader = PyMuPDFLoader(\"data/valorant_tutorial.pdf\")\n",
    "\n",
    "docs = loader.load()\n",
    "\n",
    "text_spliteer = RecursiveCharacterTextSplitter(chunk_size=1000, chunk_overlap=50)\n",
    "texts = text_spliteer.split_documents(docs)\n",
    "\n",
    "embeddings = OpenAIEmbeddings()\n",
    "vectorstore = FAISS.from_documents(texts, embeddings)\n",
    "retriever = vectorstore.as_retriever(search_kwargs={\"k\": 2})"
   ]
  },
  {
   "cell_type": "code",
   "execution_count": 78,
   "id": "0a5a446a",
   "metadata": {},
   "outputs": [
    {
     "data": {
      "text/plain": [
       "'안녕하세요! 발로란트 인게임 AI 어시스턴트입니다.\\n\\n제트는 빠른 기동성을 활용하여 공격적인 플레이를 펼치는 요원입니다. 대시와 상승 기류 스킬을 사용해 빠르게 위치를 변경하거나 높은 곳으로 이동하며 적을 기습하는 데 특화되어 있습니다.'"
      ]
     },
     "execution_count": 78,
     "metadata": {},
     "output_type": "execute_result"
    }
   ],
   "source": [
    "llm = ChatGoogleGenerativeAI(model='gemini-2.5-flash-preview-04-17', temperature=0.1)\n",
    "prompt = PromptTemplate.from_template(\n",
    "\"\"\"\n",
    "역할 : \n",
    "당신은 발로란트 게임에 대해 알려주는 친절한 인게임 AI 어시스턴트입니다. 주 대상은 발로란트 게임을 처음 접하는 사람들입니다.\n",
    "질문에 대하여 간결하고 명확한 답변을 제공하세요.\n",
    "답변을 먼저 말하고, 문서 검색 결과에 대해서는 언급하지 마세요.\n",
    "분량은 2-3문장 정도로 작성하세요.\n",
    "당신은 발로란트 게임의 공식 문서와 관련된 정보를 바탕으로 답변을 작성합니다.\n",
    "모르는 내용은 \"확인할 수 없습니다.\"라고 답변하세요.\n",
    "---------------------------------------------------------------\n",
    "다음 질문에 답변하세요: \n",
    "{question}\\n\\n\n",
    "---------------------------------------------------------------\n",
    "아래는 관련된 정보입니다:\n",
    "\\n{context}\\n\\n\n",
    "답변:\n",
    "\"\"\"\n",
    ")\n",
    "chain ={\"context\":retriever, \"question\": RunnablePassthrough()} | prompt | llm | StrOutputParser()\n",
    "chain.invoke(\"제트의 특징은 무엇인가요?\")"
   ]
  },
  {
   "cell_type": "code",
   "execution_count": 71,
   "id": "07ec6bea",
   "metadata": {},
   "outputs": [],
   "source": [
    "router_llm = llm\n",
    "\n",
    "router_prompt = PromptTemplate.from_template(\"\"\"\n",
    "        당신은 발로란트 게임 내에서 유저의 질문 유형을 분류하는 AI입니다. 다음 질문을 분석하여 해당 질문의 유형을 결정하세요. 오직 분류 결과만 출력하세요. \\n\n",
    "        질문: {question}\\n\\n질문 유형을 다음 중 하나로 분류하세요: 'game_tutorial', 'agent_infomation', 'unclear'\n",
    "        \"\"\")\n",
    "\n",
    "\n",
    "router_chain = router_prompt | router_llm | StrOutputParser()\n",
    "\n",
    "question_type = router_chain.invoke({\"question\": \"내가 지금 뭐해야 하지?\"})"
   ]
  },
  {
   "cell_type": "code",
   "execution_count": 72,
   "id": "20bf9cee",
   "metadata": {},
   "outputs": [
    {
     "data": {
      "text/plain": [
       "'unclear'"
      ]
     },
     "execution_count": 72,
     "metadata": {},
     "output_type": "execute_result"
    }
   ],
   "source": [
    "question_type"
   ]
  },
  {
   "cell_type": "code",
   "execution_count": 96,
   "id": "fc2ac3fb",
   "metadata": {},
   "outputs": [
    {
     "data": {
      "text/plain": [
       "'첫 라운드에는 크레딧이 제한적이니, 권총과 기본 스킬을 구매하는 것이 좋아요. 팀원들과 함께 어디로 갈지 정하고, 서로 협력하며 목표를 달성해 보세요!'"
      ]
     },
     "execution_count": 96,
     "metadata": {},
     "output_type": "execute_result"
    }
   ],
   "source": [
    "from rag_bot import tutorial_chain\n",
    "tutorial_chain.invoke( \"지금 첫 라운드인데 어떻게 해야 할까요?\")"
   ]
  },
  {
   "cell_type": "code",
   "execution_count": 1,
   "id": "aa68c39f",
   "metadata": {},
   "outputs": [
    {
     "name": "stderr",
     "output_type": "stream",
     "text": [
      "c:\\Users\\user\\miniconda3\\envs\\graph_agent\\Lib\\site-packages\\tqdm\\auto.py:21: TqdmWarning: IProgress not found. Please update jupyter and ipywidgets. See https://ipywidgets.readthedocs.io/en/stable/user_install.html\n",
      "  from .autonotebook import tqdm as notebook_tqdm\n"
     ]
    }
   ],
   "source": [
    "from main import graph_app\n"
   ]
  },
  {
   "cell_type": "code",
   "execution_count": 40,
   "id": "7b20a5a1",
   "metadata": {},
   "outputs": [
    {
     "name": "stdout",
     "output_type": "stream",
     "text": [
      "---라우터 노드 실행---\n",
      "질문 유형: game_tutorial\n",
      "---게임 튜토리얼 질문 처리---\n",
      "간단한 답변 품질 평가\n",
      "답변 평가 내역: 적절\n"
     ]
    }
   ],
   "source": [
    "answer = graph_app.invoke({\"question\": \"조작법을 모르겠어\"})['answer']"
   ]
  },
  {
   "cell_type": "code",
   "execution_count": 41,
   "id": "1faa52d9",
   "metadata": {},
   "outputs": [
    {
     "data": {
      "text/plain": [
       "'조작법은 게임 내 설정 메뉴에서 확인할 수 있습니다. Esc 키를 눌러 설정으로 이동한 후, 조작법 탭에서 모든 키 설정을 보고 변경할 수 있습니다.'"
      ]
     },
     "execution_count": 41,
     "metadata": {},
     "output_type": "execute_result"
    }
   ],
   "source": [
    "answer"
   ]
  },
  {
   "cell_type": "code",
   "execution_count": 102,
   "id": "296f56a4",
   "metadata": {},
   "outputs": [
    {
     "data": {
      "text/plain": [
       "dict"
      ]
     },
     "execution_count": 102,
     "metadata": {},
     "output_type": "execute_result"
    }
   ],
   "source": [
    "from main import MyState\n",
    "\n",
    "state = MyState()\n",
    "type(state)"
   ]
  },
  {
   "cell_type": "code",
   "execution_count": 8,
   "id": "4862f8d5",
   "metadata": {},
   "outputs": [
    {
     "data": {
      "text/plain": [
       "'발로란트에서는 Shift 키로 걸어서 발소리를 줄일 수 있고, Ctrl 키로 웅크릴 수 있습니다. 팀원과의 소통을 위해 Caps Lock 키로 지도를 열거나 Z 키로 핑을 찍을 수 있습니다. 또한 G 키로 무기를 버리거나 B 키로 구매 메뉴를 열 수 있습니다.'"
      ]
     },
     "execution_count": 8,
     "metadata": {},
     "output_type": "execute_result"
    }
   ],
   "source": [
    "answer"
   ]
  },
  {
   "cell_type": "code",
   "execution_count": 44,
   "id": "835d697a",
   "metadata": {},
   "outputs": [],
   "source": [
    "from openai import OpenAI\n",
    "\n",
    "client = OpenAI()\n",
    "speech_file_path = \"./answer_speech.wav\"\n",
    "\n",
    "with client.audio.speech.with_streaming_response.create(\n",
    "    model=\"tts-1\",\n",
    "    voice=\"nova\",\n",
    "    input=answer,\n",
    "    instructions=\"Say clearly and say it in a calm yet majestic tone, like the 'Welcome to Summoner's Rift' line from League of Legends.\",\n",
    "    speed=1.0,\n",
    ") as response:\n",
    "    response.stream_to_file(speech_file_path)"
   ]
  },
  {
   "cell_type": "code",
   "execution_count": null,
   "id": "875b22d7",
   "metadata": {},
   "outputs": [],
   "source": []
  }
 ],
 "metadata": {
  "kernelspec": {
   "display_name": "graph_agent",
   "language": "python",
   "name": "python3"
  },
  "language_info": {
   "codemirror_mode": {
    "name": "ipython",
    "version": 3
   },
   "file_extension": ".py",
   "mimetype": "text/x-python",
   "name": "python",
   "nbconvert_exporter": "python",
   "pygments_lexer": "ipython3",
   "version": "3.11.11"
  }
 },
 "nbformat": 4,
 "nbformat_minor": 5
}
